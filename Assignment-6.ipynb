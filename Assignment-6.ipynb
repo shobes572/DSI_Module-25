{
 "cells": [
  {
   "cell_type": "code",
   "execution_count": 7,
   "metadata": {},
   "outputs": [],
   "source": [
    "from matplotlib.patches import Ellipse\n",
    "from sklearn.preprocessing import StandardScaler\n",
    "from sklearn.metrics import adjusted_rand_score, silhouette_score\n",
    "from sklearn.mixture import GaussianMixture\n",
    "import pandas as pd\n",
    "import numpy as np\n",
    "import matplotlib.pyplot as plt\n",
    "import seaborn as sns"
   ]
  },
  {
   "cell_type": "code",
   "execution_count": 8,
   "metadata": {},
   "outputs": [],
   "source": [
    "confile = list(pd.read_csv('../../dbcon.csv'))\n",
    "postgres_db = 'heartdisease'\n",
    "db_connection = 'postgresql://{}:{}@{}:{}/{}'.format(confile[0], confile[1], confile[2], confile[3], postgres_db)\n",
    "\n",
    "query = '''\n",
    "SELECT *\n",
    "FROM heartdisease\n",
    ";'''\n",
    "\n",
    "heartdisease_df = pd.read_sql(query, db_connection)\n",
    "\n",
    "X = heartdisease_df.iloc[:, :13]\n",
    "y = heartdisease_df.iloc[:, 13]\n",
    "\n",
    "X = X.replace(to_replace='?', value=0)\n",
    "y = np.where(y > 0, 0, 1)\n",
    "\n",
    "scaler = StandardScaler()\n",
    "scaled_X = scaler.fit_transform(X)"
   ]
  },
  {
   "cell_type": "code",
   "execution_count": 10,
   "metadata": {},
   "outputs": [
    {
     "data": {
      "text/plain": [
       "'ARI Score: 0.18389186035089963'"
      ]
     },
     "metadata": {},
     "output_type": "display_data"
    },
    {
     "data": {
      "text/plain": [
       "'Silhouette Score: 0.13628813153331445'"
      ]
     },
     "metadata": {},
     "output_type": "display_data"
    }
   ],
   "source": [
    "model = GaussianMixture(n_components=2)\n",
    "y_pred = model.fit_predict(scaled_X)\n",
    "display(\n",
    "    \"ARI Score: {n}\".format(n=adjusted_rand_score(y, y_pred)),\n",
    "    \"Silhouette Score: {m}\".format(m=silhouette_score(scaled_X, y_pred))\n",
    ")"
   ]
  },
  {
   "cell_type": "markdown",
   "metadata": {},
   "source": [
    "It's performing better than the other previous models"
   ]
  },
  {
   "cell_type": "code",
   "execution_count": 15,
   "metadata": {},
   "outputs": [
    {
     "data": {
      "text/html": [
       "<div>\n",
       "<style scoped>\n",
       "    .dataframe tbody tr th:only-of-type {\n",
       "        vertical-align: middle;\n",
       "    }\n",
       "\n",
       "    .dataframe tbody tr th {\n",
       "        vertical-align: top;\n",
       "    }\n",
       "\n",
       "    .dataframe thead th {\n",
       "        text-align: right;\n",
       "    }\n",
       "</style>\n",
       "<table border=\"1\" class=\"dataframe\">\n",
       "  <thead>\n",
       "    <tr style=\"text-align: right;\">\n",
       "      <th></th>\n",
       "      <th>ARI_Score</th>\n",
       "      <th>SIL_Score</th>\n",
       "    </tr>\n",
       "  </thead>\n",
       "  <tbody>\n",
       "    <tr>\n",
       "      <td>full</td>\n",
       "      <td>0.420732</td>\n",
       "      <td>0.161186</td>\n",
       "    </tr>\n",
       "    <tr>\n",
       "      <td>tied</td>\n",
       "      <td>0.183892</td>\n",
       "      <td>0.136288</td>\n",
       "    </tr>\n",
       "    <tr>\n",
       "      <td>diag</td>\n",
       "      <td>0.183892</td>\n",
       "      <td>0.136288</td>\n",
       "    </tr>\n",
       "    <tr>\n",
       "      <td>spherical</td>\n",
       "      <td>0.207652</td>\n",
       "      <td>0.124688</td>\n",
       "    </tr>\n",
       "  </tbody>\n",
       "</table>\n",
       "</div>"
      ],
      "text/plain": [
       "          ARI_Score SIL_Score\n",
       "full       0.420732  0.161186\n",
       "tied       0.183892  0.136288\n",
       "diag       0.183892  0.136288\n",
       "spherical  0.207652  0.124688"
      ]
     },
     "execution_count": 15,
     "metadata": {},
     "output_type": "execute_result"
    }
   ],
   "source": [
    "covar_types = ['full', 'tied', 'diag', 'spherical']\n",
    "score_df = pd.DataFrame(\n",
    "    columns=['ARI_Score', 'SIL_Score'],\n",
    "    index=covar_types)\n",
    "for covar in covar_types:\n",
    "    model.covariance_type = covar\n",
    "    y_pred = model.fit_predict(scaled_X)\n",
    "    score_df.loc[covar, 'ARI_Score'] = adjusted_rand_score(y, y_pred)\n",
    "    score_df.loc[covar, 'SIL_Score'] = silhouette_score(scaled_X, y_pred)\n",
    "score_df"
   ]
  },
  {
   "cell_type": "markdown",
   "metadata": {},
   "source": [
    "Full covariance seems to be the better one, and I would say spherical is the second best"
   ]
  }
 ],
 "metadata": {
  "kernelspec": {
   "display_name": "Python 3",
   "language": "python",
   "name": "python3"
  },
  "language_info": {
   "codemirror_mode": {
    "name": "ipython",
    "version": 3
   },
   "file_extension": ".py",
   "mimetype": "text/x-python",
   "name": "python",
   "nbconvert_exporter": "python",
   "pygments_lexer": "ipython3",
   "version": "3.7.4"
  }
 },
 "nbformat": 4,
 "nbformat_minor": 2
}
